{
  "nbformat": 4,
  "nbformat_minor": 0,
  "metadata": {
    "colab": {
      "provenance": [],
      "gpuType": "T4",
      "authorship_tag": "ABX9TyOfxeebO626GgM6OtRnK6JI",
      "include_colab_link": true
    },
    "kernelspec": {
      "name": "python3",
      "display_name": "Python 3"
    },
    "language_info": {
      "name": "python"
    },
    "accelerator": "GPU"
  },
  "cells": [
    {
      "cell_type": "markdown",
      "metadata": {
        "id": "view-in-github",
        "colab_type": "text"
      },
      "source": [
        "<a href=\"https://colab.research.google.com/github/Rohit1217/MADE/blob/main/made.ipynb\" target=\"_parent\"><img src=\"https://colab.research.google.com/assets/colab-badge.svg\" alt=\"Open In Colab\"/></a>"
      ]
    },
    {
      "cell_type": "code",
      "execution_count": 2,
      "metadata": {
        "id": "bSWAAxPk_xPC"
      },
      "outputs": [],
      "source": [
        "import matplotlib.pyplot as plt\n",
        "import numpy as np\n",
        "\n",
        "import torch,torchvision\n",
        "from torch.utils.data import DataLoader,TensorDataset\n",
        "import torch.nn as nn\n",
        "import torch.optim as optim\n",
        "import torch.nn.functional as F\n",
        "from torchvision import datasets,transforms\n"
      ]
    },
    {
      "cell_type": "code",
      "source": [
        "trainset = datasets.MNIST('~/.pytorch/MNIST_data/', download=True, train=True)\n",
        "\n",
        "data=trainset.data\n",
        "data=data.to(dtype=torch.float32)\n",
        "norm = transforms.Normalize((128,),(128,))\n",
        "data=norm(data)\n",
        "\n",
        "data_target=data*0.5+0.5\n",
        "data=data.view(60000,784)\n",
        "data=data.to(dtype=torch.float32)\n",
        "data_target=data_target.view(60000,784)\n",
        "new_column = torch.full((60000, 1), 2)\n",
        "data = torch.cat((new_column, data[:, :-1]), dim=1)\n",
        "\n",
        "trainset=TensorDataset(data,data_target)\n",
        "trainloader=DataLoader(trainset,batch_size=256,shuffle=True)"
      ],
      "metadata": {
        "id": "zyY81xgQBFkb"
      },
      "execution_count": 65,
      "outputs": []
    },
    {
      "cell_type": "code",
      "source": [
        "testset = datasets.MNIST('~/.pytorch/MNIST_data/', download=True, train=False)\n",
        "data_t=testset.data\n",
        "data_t=data_t.to(dtype=torch.float32)\n",
        "norm = transforms.Normalize((128,),(128,))\n",
        "data_t=norm(data_t)\n",
        "data_t=data_t.view(10000,784)\n",
        "new_column = torch.full((10000, 1), 2)\n",
        "data_t = torch.cat((new_column, data_t[:, :-1]), dim=1)"
      ],
      "metadata": {
        "id": "cOtZelFod9Jd"
      },
      "execution_count": 69,
      "outputs": []
    },
    {
      "cell_type": "code",
      "source": [
        "def get_device():\n",
        "  return torch.device(\"cuda\" if torch.cuda.is_available() else \"cpu\")"
      ],
      "metadata": {
        "id": "htY-ACYvHuUX"
      },
      "execution_count": 4,
      "outputs": []
    },
    {
      "cell_type": "code",
      "source": [
        "def masker(mask):\n",
        "  out,inn=mask.shape\n",
        "  stride=inn/out\n",
        "  for i in range(out):\n",
        "\n",
        "    for j in range(inn):\n",
        "      if j>=(i)*stride:\n",
        "        mask[i,j]=0\n",
        "  return mask\n",
        "x=torch.ones(5,5)\n",
        "masker(x)"
      ],
      "metadata": {
        "colab": {
          "base_uri": "https://localhost:8080/"
        },
        "id": "UWiRMWYDFmpd",
        "outputId": "e5b4b1cb-a7d2-4550-899d-13e0b07a4862"
      },
      "execution_count": 215,
      "outputs": [
        {
          "output_type": "execute_result",
          "data": {
            "text/plain": [
              "tensor([[0., 0., 0., 0., 0.],\n",
              "        [1., 0., 0., 0., 0.],\n",
              "        [1., 1., 0., 0., 0.],\n",
              "        [1., 1., 1., 0., 0.],\n",
              "        [1., 1., 1., 1., 0.]])"
            ]
          },
          "metadata": {},
          "execution_count": 215
        }
      ]
    },
    {
      "cell_type": "code",
      "source": [
        "def mask(inn,out):\n",
        "  mask=torch.ones(out,inn)\n",
        "  return masker(mask)\n",
        "#mask(5,5)"
      ],
      "metadata": {
        "id": "f5xKMdrtDYpy"
      },
      "execution_count": 6,
      "outputs": []
    },
    {
      "cell_type": "code",
      "source": [
        "class MaskedLinear(nn.Module):\n",
        "  def __init__(self,in_dim,out_dim):\n",
        "    super(MaskedLinear,self).__init__()\n",
        "    self.fc=nn.Linear(in_dim,out_dim)\n",
        "    self.mask1=mask(in_dim,out_dim).to(get_device())\n",
        "    self.register_buffer('mask',self.mask1)\n",
        "\n",
        "  def forward(self,x):\n",
        "    self.fc.weight.data*=self.mask\n",
        "    return self.fc(x)\n"
      ],
      "metadata": {
        "id": "JF9g2ui6DOl6"
      },
      "execution_count": 7,
      "outputs": []
    },
    {
      "cell_type": "code",
      "source": [
        "class Made(nn.Module):\n",
        "  def __init__(self,latent_dim):\n",
        "    super(Made,self).__init__()\n",
        "    self.ldim=latent_dim\n",
        "    self.fc1=MaskedLinear(784,latent_dim)\n",
        "    self.ln1=nn.LayerNorm(latent_dim)\n",
        "    self.fc2=MaskedLinear(latent_dim,784)\n",
        "    self.ln2=nn.LayerNorm(784)\n",
        "    self.ln3=nn.LayerNorm(784)\n",
        "    self.fc3=MaskedLinear(784,784)\n",
        "    self.fc4=MaskedLinear(784,784)\n",
        "\n",
        "  def forward(self,x):\n",
        "    #x=x+torch.arange(784).to(get_device())\n",
        "    x=(F.elu(self.fc1(x)))\n",
        "    residual=x\n",
        "    x=(F.elu(self.fc2(x)))\n",
        "    x=(F.elu(self.fc3(x)))+residual\n",
        "    x=self.fc4(x)\n",
        "    return x"
      ],
      "metadata": {
        "id": "X4WNyS6iCCm-"
      },
      "execution_count": 259,
      "outputs": []
    },
    {
      "cell_type": "code",
      "source": [
        "torch.arange(784)"
      ],
      "metadata": {
        "id": "okFIA8Rdm2EA"
      },
      "execution_count": null,
      "outputs": []
    },
    {
      "cell_type": "code",
      "source": [
        "lr_rate=0.001\n",
        "epochs=100\n",
        "model=Made(784)\n",
        "model.to(get_device())\n",
        "criterion=nn.BCELoss()\n",
        "optimizer=optim.Adam(model.parameters(),lr=lr_rate)"
      ],
      "metadata": {
        "id": "DaXWyNsMIMPq"
      },
      "execution_count": 260,
      "outputs": []
    },
    {
      "cell_type": "code",
      "source": [
        "loss_list=[]\n",
        "for epoch in range(epochs):\n",
        "  total_loss=0\n",
        "  length=0\n",
        "  for input,target in trainloader:\n",
        "    input,target=input.to(get_device()),target.to(get_device())\n",
        "    pred=F.sigmoid(model(input))\n",
        "    loss=criterion(pred,target)\n",
        "\n",
        "    total_loss+=loss.item()\n",
        "    length+=1\n",
        "\n",
        "    optimizer.zero_grad()\n",
        "    loss.backward()\n",
        "    optimizer.step()\n",
        "\n",
        "  print(f'total_loss ={total_loss},avg_loss={total_loss/length},epoch={epoch}')"
      ],
      "metadata": {
        "colab": {
          "base_uri": "https://localhost:8080/",
          "height": 928
        },
        "id": "BFH5TD7JIo-C",
        "outputId": "0e1319cb-cc39-4dce-b0ff-a8ce6b730351"
      },
      "execution_count": 261,
      "outputs": [
        {
          "output_type": "stream",
          "name": "stdout",
          "text": [
            "total_loss =55.8304009437561,avg_loss=0.23757617422874938,epoch=0\n",
            "total_loss =37.225093126297,avg_loss=0.15840465160126382,epoch=1\n",
            "total_loss =32.50089706480503,avg_loss=0.13830168963746822,epoch=2\n",
            "total_loss =30.336917586624622,avg_loss=0.12909326632606222,epoch=3\n",
            "total_loss =29.075169309973717,avg_loss=0.12372412472329242,epoch=4\n",
            "total_loss =28.233548663556576,avg_loss=0.12014276027045351,epoch=5\n",
            "total_loss =27.622466906905174,avg_loss=0.11754241236980925,epoch=6\n",
            "total_loss =27.17369618266821,avg_loss=0.11563274971348174,epoch=7\n",
            "total_loss =26.8180129006505,avg_loss=0.11411920383255532,epoch=8\n",
            "total_loss =26.507111489772797,avg_loss=0.11279621910541615,epoch=9\n",
            "total_loss =26.25639234483242,avg_loss=0.11172932912694647,epoch=10\n",
            "total_loss =26.0473754927516,avg_loss=0.1108398957138366,epoch=11\n",
            "total_loss =25.862413965165615,avg_loss=0.11005282538368347,epoch=12\n",
            "total_loss =25.698408387601376,avg_loss=0.10935492930894203,epoch=13\n",
            "total_loss =25.556329272687435,avg_loss=0.10875033733058483,epoch=14\n",
            "total_loss =25.424412429332733,avg_loss=0.10818898906099035,epoch=15\n",
            "total_loss =25.30367948114872,avg_loss=0.10767523183467541,epoch=16\n",
            "total_loss =25.200455866754055,avg_loss=0.10723598241171939,epoch=17\n",
            "total_loss =25.10380134731531,avg_loss=0.10682468658432047,epoch=18\n",
            "total_loss =25.026719108223915,avg_loss=0.10649667705627198,epoch=19\n",
            "total_loss =24.93103463947773,avg_loss=0.10608950910416055,epoch=20\n",
            "total_loss =24.845470421016216,avg_loss=0.10572540604687751,epoch=21\n",
            "total_loss =24.781651377677917,avg_loss=0.10545383564969327,epoch=22\n",
            "total_loss =24.72312095016241,avg_loss=0.1052047700006911,epoch=23\n",
            "total_loss =24.66531517356634,avg_loss=0.10495878797262273,epoch=24\n",
            "total_loss =24.617531277239323,avg_loss=0.10475545224357159,epoch=25\n",
            "total_loss =24.55784870684147,avg_loss=0.10450148385889987,epoch=26\n",
            "total_loss =24.503652445971966,avg_loss=0.10427086147222113,epoch=27\n",
            "total_loss =24.444438725709915,avg_loss=0.10401888819451027,epoch=28\n",
            "total_loss =24.411175459623337,avg_loss=0.1038773423813759,epoch=29\n",
            "total_loss =24.372661367058754,avg_loss=0.10371345262578194,epoch=30\n"
          ]
        },
        {
          "output_type": "error",
          "ename": "KeyboardInterrupt",
          "evalue": "",
          "traceback": [
            "\u001b[0;31m---------------------------------------------------------------------------\u001b[0m",
            "\u001b[0;31mKeyboardInterrupt\u001b[0m                         Traceback (most recent call last)",
            "\u001b[0;32m<ipython-input-261-c1cc8f69d40a>\u001b[0m in \u001b[0;36m<cell line: 2>\u001b[0;34m()\u001b[0m\n\u001b[1;32m      3\u001b[0m   \u001b[0mtotal_loss\u001b[0m\u001b[0;34m=\u001b[0m\u001b[0;36m0\u001b[0m\u001b[0;34m\u001b[0m\u001b[0;34m\u001b[0m\u001b[0m\n\u001b[1;32m      4\u001b[0m   \u001b[0mlength\u001b[0m\u001b[0;34m=\u001b[0m\u001b[0;36m0\u001b[0m\u001b[0;34m\u001b[0m\u001b[0;34m\u001b[0m\u001b[0m\n\u001b[0;32m----> 5\u001b[0;31m   \u001b[0;32mfor\u001b[0m \u001b[0minput\u001b[0m\u001b[0;34m,\u001b[0m\u001b[0mtarget\u001b[0m \u001b[0;32min\u001b[0m \u001b[0mtrainloader\u001b[0m\u001b[0;34m:\u001b[0m\u001b[0;34m\u001b[0m\u001b[0;34m\u001b[0m\u001b[0m\n\u001b[0m\u001b[1;32m      6\u001b[0m     \u001b[0minput\u001b[0m\u001b[0;34m,\u001b[0m\u001b[0mtarget\u001b[0m\u001b[0;34m=\u001b[0m\u001b[0minput\u001b[0m\u001b[0;34m.\u001b[0m\u001b[0mto\u001b[0m\u001b[0;34m(\u001b[0m\u001b[0mget_device\u001b[0m\u001b[0;34m(\u001b[0m\u001b[0;34m)\u001b[0m\u001b[0;34m)\u001b[0m\u001b[0;34m,\u001b[0m\u001b[0mtarget\u001b[0m\u001b[0;34m.\u001b[0m\u001b[0mto\u001b[0m\u001b[0;34m(\u001b[0m\u001b[0mget_device\u001b[0m\u001b[0;34m(\u001b[0m\u001b[0;34m)\u001b[0m\u001b[0;34m)\u001b[0m\u001b[0;34m\u001b[0m\u001b[0;34m\u001b[0m\u001b[0m\n\u001b[1;32m      7\u001b[0m     \u001b[0mpred\u001b[0m\u001b[0;34m=\u001b[0m\u001b[0mF\u001b[0m\u001b[0;34m.\u001b[0m\u001b[0msigmoid\u001b[0m\u001b[0;34m(\u001b[0m\u001b[0mmodel\u001b[0m\u001b[0;34m(\u001b[0m\u001b[0minput\u001b[0m\u001b[0;34m)\u001b[0m\u001b[0;34m)\u001b[0m\u001b[0;34m\u001b[0m\u001b[0;34m\u001b[0m\u001b[0m\n",
            "\u001b[0;32m/usr/local/lib/python3.10/dist-packages/torch/utils/data/dataloader.py\u001b[0m in \u001b[0;36m__next__\u001b[0;34m(self)\u001b[0m\n\u001b[1;32m    624\u001b[0m \u001b[0;34m\u001b[0m\u001b[0m\n\u001b[1;32m    625\u001b[0m     \u001b[0;32mdef\u001b[0m \u001b[0m__next__\u001b[0m\u001b[0;34m(\u001b[0m\u001b[0mself\u001b[0m\u001b[0;34m)\u001b[0m \u001b[0;34m->\u001b[0m \u001b[0mAny\u001b[0m\u001b[0;34m:\u001b[0m\u001b[0;34m\u001b[0m\u001b[0;34m\u001b[0m\u001b[0m\n\u001b[0;32m--> 626\u001b[0;31m         \u001b[0;32mwith\u001b[0m \u001b[0mtorch\u001b[0m\u001b[0;34m.\u001b[0m\u001b[0mautograd\u001b[0m\u001b[0;34m.\u001b[0m\u001b[0mprofiler\u001b[0m\u001b[0;34m.\u001b[0m\u001b[0mrecord_function\u001b[0m\u001b[0;34m(\u001b[0m\u001b[0mself\u001b[0m\u001b[0;34m.\u001b[0m\u001b[0m_profile_name\u001b[0m\u001b[0;34m)\u001b[0m\u001b[0;34m:\u001b[0m\u001b[0;34m\u001b[0m\u001b[0;34m\u001b[0m\u001b[0m\n\u001b[0m\u001b[1;32m    627\u001b[0m             \u001b[0;32mif\u001b[0m \u001b[0mself\u001b[0m\u001b[0;34m.\u001b[0m\u001b[0m_sampler_iter\u001b[0m \u001b[0;32mis\u001b[0m \u001b[0;32mNone\u001b[0m\u001b[0;34m:\u001b[0m\u001b[0;34m\u001b[0m\u001b[0;34m\u001b[0m\u001b[0m\n\u001b[1;32m    628\u001b[0m                 \u001b[0;31m# TODO(https://github.com/pytorch/pytorch/issues/76750)\u001b[0m\u001b[0;34m\u001b[0m\u001b[0;34m\u001b[0m\u001b[0m\n",
            "\u001b[0;32m/usr/local/lib/python3.10/dist-packages/torch/autograd/profiler.py\u001b[0m in \u001b[0;36m__exit__\u001b[0;34m(self, exc_type, exc_value, traceback)\u001b[0m\n\u001b[1;32m    646\u001b[0m         \u001b[0;32mif\u001b[0m \u001b[0;32mnot\u001b[0m \u001b[0mtorch\u001b[0m\u001b[0;34m.\u001b[0m\u001b[0mjit\u001b[0m\u001b[0;34m.\u001b[0m\u001b[0mis_scripting\u001b[0m\u001b[0;34m(\u001b[0m\u001b[0;34m)\u001b[0m\u001b[0;34m:\u001b[0m\u001b[0;34m\u001b[0m\u001b[0;34m\u001b[0m\u001b[0m\n\u001b[1;32m    647\u001b[0m             \u001b[0;32mwith\u001b[0m \u001b[0mtorch\u001b[0m\u001b[0;34m.\u001b[0m\u001b[0m_C\u001b[0m\u001b[0;34m.\u001b[0m\u001b[0mDisableTorchFunctionSubclass\u001b[0m\u001b[0;34m(\u001b[0m\u001b[0;34m)\u001b[0m\u001b[0;34m:\u001b[0m\u001b[0;34m\u001b[0m\u001b[0;34m\u001b[0m\u001b[0m\n\u001b[0;32m--> 648\u001b[0;31m                 \u001b[0mtorch\u001b[0m\u001b[0;34m.\u001b[0m\u001b[0mops\u001b[0m\u001b[0;34m.\u001b[0m\u001b[0mprofiler\u001b[0m\u001b[0;34m.\u001b[0m\u001b[0m_record_function_exit\u001b[0m\u001b[0;34m.\u001b[0m\u001b[0m_RecordFunction\u001b[0m\u001b[0;34m(\u001b[0m\u001b[0mrecord\u001b[0m\u001b[0;34m)\u001b[0m\u001b[0;34m\u001b[0m\u001b[0;34m\u001b[0m\u001b[0m\n\u001b[0m\u001b[1;32m    649\u001b[0m         \u001b[0;32melse\u001b[0m\u001b[0;34m:\u001b[0m\u001b[0;34m\u001b[0m\u001b[0;34m\u001b[0m\u001b[0m\n\u001b[1;32m    650\u001b[0m             \u001b[0mtorch\u001b[0m\u001b[0;34m.\u001b[0m\u001b[0mops\u001b[0m\u001b[0;34m.\u001b[0m\u001b[0mprofiler\u001b[0m\u001b[0;34m.\u001b[0m\u001b[0m_record_function_exit\u001b[0m\u001b[0;34m(\u001b[0m\u001b[0mrecord\u001b[0m\u001b[0;34m)\u001b[0m\u001b[0;34m\u001b[0m\u001b[0;34m\u001b[0m\u001b[0m\n",
            "\u001b[0;32m/usr/local/lib/python3.10/dist-packages/torch/_ops.py\u001b[0m in \u001b[0;36m__call__\u001b[0;34m(self, *args, **kwargs)\u001b[0m\n\u001b[1;32m    446\u001b[0m \u001b[0;34m\u001b[0m\u001b[0m\n\u001b[1;32m    447\u001b[0m     \u001b[0;32mdef\u001b[0m \u001b[0m__call__\u001b[0m\u001b[0;34m(\u001b[0m\u001b[0mself\u001b[0m\u001b[0;34m,\u001b[0m \u001b[0;34m*\u001b[0m\u001b[0margs\u001b[0m\u001b[0;34m,\u001b[0m \u001b[0;34m**\u001b[0m\u001b[0mkwargs\u001b[0m\u001b[0;34m)\u001b[0m\u001b[0;34m:\u001b[0m\u001b[0;34m\u001b[0m\u001b[0;34m\u001b[0m\u001b[0m\n\u001b[0;32m--> 448\u001b[0;31m         \u001b[0;32mreturn\u001b[0m \u001b[0mself\u001b[0m\u001b[0;34m.\u001b[0m\u001b[0m_op\u001b[0m\u001b[0;34m(\u001b[0m\u001b[0;34m*\u001b[0m\u001b[0margs\u001b[0m\u001b[0;34m,\u001b[0m \u001b[0;34m**\u001b[0m\u001b[0mkwargs\u001b[0m \u001b[0;32mor\u001b[0m \u001b[0;34m{\u001b[0m\u001b[0;34m}\u001b[0m\u001b[0;34m)\u001b[0m\u001b[0;34m\u001b[0m\u001b[0;34m\u001b[0m\u001b[0m\n\u001b[0m\u001b[1;32m    449\u001b[0m \u001b[0;34m\u001b[0m\u001b[0m\n\u001b[1;32m    450\u001b[0m     \u001b[0;32mdef\u001b[0m \u001b[0m__hash__\u001b[0m\u001b[0;34m(\u001b[0m\u001b[0mself\u001b[0m\u001b[0;34m)\u001b[0m\u001b[0;34m:\u001b[0m\u001b[0;34m\u001b[0m\u001b[0;34m\u001b[0m\u001b[0m\n",
            "\u001b[0;31mKeyboardInterrupt\u001b[0m: "
          ]
        }
      ]
    },
    {
      "cell_type": "code",
      "source": [
        "model.eval()\n",
        "with torch.no_grad():\n",
        "  x=data_t[6]\n",
        "  #x[0]=0\n",
        "  #x=torch.rand(784)\n",
        "  x=x.to('cuda:0')\n",
        "  x=F.sigmoid(model(x))\n",
        "    #print(x[28*14:28*15])\n",
        "\n",
        "  x=x.view(28,28)\n",
        "  x=x.to('cpu')\n",
        "  image_np = x.numpy()\n",
        "\n",
        "\n",
        "\n",
        "  # Display the image using matplotlib\n",
        "  plt.imshow(image_np, cmap='gray')  # 'gray' colormap is used for grayscale images\n",
        "  plt.axis('off')  # Turn off axis labels\n",
        "  plt.show()"
      ],
      "metadata": {
        "colab": {
          "base_uri": "https://localhost:8080/",
          "height": 406
        },
        "id": "4JbWcTIqLGkR",
        "outputId": "2c3c17b3-b030-447a-9700-c52d422cd729"
      },
      "execution_count": 262,
      "outputs": [
        {
          "output_type": "display_data",
          "data": {
            "text/plain": [
              "<Figure size 640x480 with 1 Axes>"
            ],
            "image/png": "[encoded data removed]"
          },
          "metadata": {}
        }
      ]
    },
    {
      "cell_type": "code",
      "execution_count": 268,
      "metadata": {
        "colab": {
          "base_uri": "https://localhost:8080/",
          "height": 406
        },
        "id": "5BlVKEb0twv6",
        "outputId": "01231eaa-a2ab-4ed4-dcac-9d95f9f95b4c"
      },
      "outputs": [
        {
          "output_type": "display_data",
          "data": {
            "text/plain": [
              "<Figure size 640x480 with 1 Axes>"
            ],
            "image/png": "[encoded data removed]"
          },
          "metadata": {}
        }
      ],
      "source": [
        "model.eval()\n",
        "with torch.no_grad():\n",
        "  x=torch.zeros(784)\n",
        "  z=torch.zeros(784)\n",
        "  #z=z.to('cuda:0')\n",
        "  x=x.to(get_device())\n",
        "  y=torch.zeros(784)\n",
        "  y=y.to(get_device())\n",
        "\n",
        "  for i in range(784):\n",
        "    y[i]=x[i]\n",
        "    #print(y[:i])\n",
        "    x=F.sigmoid(model(y))\n",
        "    if i<250:\n",
        "        x=torch.bernoulli(x.float())\n",
        "    #print(x[:i])\n",
        "    x=2*x-1\n",
        "    #x=torch.bernoulli(x.float())\n",
        "\n",
        "x=0.5*x+0.5\n",
        "z=z.view(28,28)\n",
        "x=x.view(28,28)\n",
        "x=x.to('cpu')\n",
        "image_np = x.numpy()\n",
        "\n",
        "# Display the image using matplotlib\n",
        "plt.imshow(image_np, cmap='gray')  # 'gray' colormap is used for grayscale images\n",
        "plt.axis('off')  # Turn off axis labels\n",
        "plt.show()\n"
      ]
    },
    {
      "cell_type": "code",
      "execution_count": null,
      "metadata": {
        "id": "bzoo7fuXIGtS"
      },
      "outputs": [],
      "source": [
        "with torch.no_grad():\n",
        "    # Function to generate an image iteratively\n",
        "    def generate_image(model, initial_pixel=2, image_size=784):\n",
        "        # Initialize x with a single pixel\n",
        "        x = torch.tensor([[initial_pixel]])\n",
        "\n",
        "        # Move the tensor to the appropriate device\n",
        "        x = x.to(get_device())\n",
        "        x=x.to(dtype=torch.float32)\n",
        "        # Generate pixels iteratively\n",
        "        for i in range(1, image_size):\n",
        "            x_probs = F.sigmoid(model(x))\n",
        "            sampled_pixel=x_probs[0,i-1]\n",
        "            #print(x_probs)\n",
        "            #sampled_pixel = torch.bernoulli(x_probs[0,i-1])\n",
        "            #print(x_probs,sampled_pixel,x_probs[0,i-1]\n",
        "            #print(x,x.shape,sampled_pixel)\n",
        "            x = torch.cat([x, sampled_pixel.unsqueeze(1)], dim=1)\n",
        "\n",
        "            if i%30==0:\n",
        "                #print(x)\n",
        "                pass\n",
        "\n",
        "        # Reshape and convert to numpy for visualization\n",
        "        x = x.view(28, 28).detach().cpu().numpy()\n",
        "\n",
        "        return x\n",
        "\n",
        "    # Generate image iteratively starting with initial pixel 257\n",
        "    generated_image = generate_image(model)\n",
        "\n",
        "    # Display the sampled image using matplotlib\n",
        "    plt.imshow(generated_image, cmap='gray')  # 'gray' colormap is used for grayscale images\n",
        "    plt.axis('off')  # Turn off axis labels\n",
        "    plt.show()\n"
      ]
    }
  ]
}