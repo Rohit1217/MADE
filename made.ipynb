{
  "nbformat": 4,
  "nbformat_minor": 0,
  "metadata": {
    "colab": {
      "provenance": [],
      "gpuType": "T4",
      "authorship_tag": "ABX9TyMMJsus4RTnJXNWOQ8G9y5R",
      "include_colab_link": true
    },
    "kernelspec": {
      "name": "python3",
      "display_name": "Python 3"
    },
    "language_info": {
      "name": "python"
    },
    "accelerator": "GPU"
  },
  "cells": [
    {
      "cell_type": "markdown",
      "metadata": {
        "id": "view-in-github",
        "colab_type": "text"
      },
      "source": [
        "<a href=\"https://colab.research.google.com/github/Rohit1217/MADE/blob/main/made.ipynb\" target=\"_parent\"><img src=\"https://colab.research.google.com/assets/colab-badge.svg\" alt=\"Open In Colab\"/></a>"
      ]
    },
    {
      "cell_type": "code",
      "execution_count": 1,
      "metadata": {
        "id": "bSWAAxPk_xPC"
      },
      "outputs": [],
      "source": [
        "import matplotlib.pyplot as plt\n",
        "import numpy as np\n",
        "\n",
        "import torch,torchvision\n",
        "from torch.utils.data import DataLoader,TensorDataset\n",
        "import torch.nn as nn\n",
        "import torch.optim as optim\n",
        "import torch.nn.functional as F\n",
        "from torchvision import datasets,transforms\n"
      ]
    },
    {
      "cell_type": "code",
      "source": [
        "trainset = datasets.MNIST('~/.pytorch/MNIST_data/', download=True, train=True)\n",
        "\n",
        "data=trainset.data\n",
        "data=data.to(dtype=torch.float32)\n",
        "norm = transforms.Normalize((128,),(128,))\n",
        "data=norm(data)\n",
        "\n",
        "data_target=data*0.5+0.5\n",
        "data_target\n",
        "data=data.view(60000,784)\n",
        "data=data.to(dtype=torch.float32)\n",
        "data_target=data_target.view(60000,784)\n",
        "#new_column = torch.full((60000, 1), 0)\n",
        "#data = torch.cat((new_column, data[:, :-1]), dim=1)\n",
        "\n",
        "trainset=TensorDataset(data,data_target)\n",
        "trainloader=DataLoader(trainset,batch_size=256,shuffle=True)"
      ],
      "metadata": {
        "colab": {
          "base_uri": "https://localhost:8080/"
        },
        "id": "zyY81xgQBFkb",
        "outputId": "6b4b5ab9-8cfc-4d06-e54f-1721a866b833"
      },
      "execution_count": 2,
      "outputs": [
        {
          "output_type": "stream",
          "name": "stdout",
          "text": [
            "Downloading http://yann.lecun.com/exdb/mnist/train-images-idx3-ubyte.gz\n",
            "Downloading http://yann.lecun.com/exdb/mnist/train-images-idx3-ubyte.gz to /root/.pytorch/MNIST_data/MNIST/raw/train-images-idx3-ubyte.gz\n"
          ]
        },
        {
          "output_type": "stream",
          "name": "stderr",
          "text": [
            "100%|██████████| 9912422/9912422 [00:00<00:00, 201303968.61it/s]"
          ]
        },
        {
          "output_type": "stream",
          "name": "stdout",
          "text": [
            "Extracting /root/.pytorch/MNIST_data/MNIST/raw/train-images-idx3-ubyte.gz to /root/.pytorch/MNIST_data/MNIST/raw\n"
          ]
        },
        {
          "output_type": "stream",
          "name": "stderr",
          "text": [
            "\n"
          ]
        },
        {
          "output_type": "stream",
          "name": "stdout",
          "text": [
            "\n",
            "Downloading http://yann.lecun.com/exdb/mnist/train-labels-idx1-ubyte.gz\n",
            "Downloading http://yann.lecun.com/exdb/mnist/train-labels-idx1-ubyte.gz to /root/.pytorch/MNIST_data/MNIST/raw/train-labels-idx1-ubyte.gz\n"
          ]
        },
        {
          "output_type": "stream",
          "name": "stderr",
          "text": [
            "100%|██████████| 28881/28881 [00:00<00:00, 30065945.35it/s]\n"
          ]
        },
        {
          "output_type": "stream",
          "name": "stdout",
          "text": [
            "Extracting /root/.pytorch/MNIST_data/MNIST/raw/train-labels-idx1-ubyte.gz to /root/.pytorch/MNIST_data/MNIST/raw\n",
            "\n",
            "Downloading http://yann.lecun.com/exdb/mnist/t10k-images-idx3-ubyte.gz\n",
            "Downloading http://yann.lecun.com/exdb/mnist/t10k-images-idx3-ubyte.gz to /root/.pytorch/MNIST_data/MNIST/raw/t10k-images-idx3-ubyte.gz\n"
          ]
        },
        {
          "output_type": "stream",
          "name": "stderr",
          "text": [
            "100%|██████████| 1648877/1648877 [00:00<00:00, 84528782.49it/s]\n"
          ]
        },
        {
          "output_type": "stream",
          "name": "stdout",
          "text": [
            "Extracting /root/.pytorch/MNIST_data/MNIST/raw/t10k-images-idx3-ubyte.gz to /root/.pytorch/MNIST_data/MNIST/raw\n",
            "\n",
            "Downloading http://yann.lecun.com/exdb/mnist/t10k-labels-idx1-ubyte.gz\n",
            "Downloading http://yann.lecun.com/exdb/mnist/t10k-labels-idx1-ubyte.gz to /root/.pytorch/MNIST_data/MNIST/raw/t10k-labels-idx1-ubyte.gz\n"
          ]
        },
        {
          "output_type": "stream",
          "name": "stderr",
          "text": [
            "100%|██████████| 4542/4542 [00:00<00:00, 19223540.63it/s]\n"
          ]
        },
        {
          "output_type": "stream",
          "name": "stdout",
          "text": [
            "Extracting /root/.pytorch/MNIST_data/MNIST/raw/t10k-labels-idx1-ubyte.gz to /root/.pytorch/MNIST_data/MNIST/raw\n",
            "\n"
          ]
        }
      ]
    },
    {
      "cell_type": "code",
      "source": [
        "testset = datasets.MNIST('~/.pytorch/MNIST_data/', download=True, train=False)\n",
        "data_t=testset.data\n",
        "data_t=data_t.to(dtype=torch.float32)\n",
        "norm = transforms.Normalize((128,),(128,))\n",
        "data_t=norm(data_t)\n",
        "data_t=data_t.view(10000,784)\n",
        "new_column = torch.full((10000, 1), 2)\n",
        "data_t = torch.cat((new_column, data_t[:, :-1]), dim=1)"
      ],
      "metadata": {
        "id": "cOtZelFod9Jd"
      },
      "execution_count": 3,
      "outputs": []
    },
    {
      "cell_type": "code",
      "source": [
        "def get_device():\n",
        "  return torch.device(\"cuda\" if torch.cuda.is_available() else \"cpu\")"
      ],
      "metadata": {
        "id": "htY-ACYvHuUX"
      },
      "execution_count": 4,
      "outputs": []
    },
    {
      "cell_type": "code",
      "source": [
        "def masker(mask):\n",
        "  out,inn=mask.shape\n",
        "  stride=inn/out\n",
        "  for i in range(out):\n",
        "\n",
        "    for j in range(inn):\n",
        "      if j>=(i)*stride:\n",
        "        mask[i,j]=0\n",
        "  return mask\n",
        "x=torch.ones(5,5)\n",
        "masker(x)"
      ],
      "metadata": {
        "colab": {
          "base_uri": "https://localhost:8080/"
        },
        "id": "UWiRMWYDFmpd",
        "outputId": "f3f8d6a4-43ad-4c6a-a975-f0bcac73b3f9"
      },
      "execution_count": 5,
      "outputs": [
        {
          "output_type": "execute_result",
          "data": {
            "text/plain": [
              "tensor([[0., 0., 0., 0., 0.],\n",
              "        [1., 0., 0., 0., 0.],\n",
              "        [1., 1., 0., 0., 0.],\n",
              "        [1., 1., 1., 0., 0.],\n",
              "        [1., 1., 1., 1., 0.]])"
            ]
          },
          "metadata": {},
          "execution_count": 5
        }
      ]
    },
    {
      "cell_type": "code",
      "source": [
        "def mask(inn,out):\n",
        "  mask=torch.ones(out,inn)\n",
        "  return masker(mask)\n",
        "#mask(5,5)"
      ],
      "metadata": {
        "id": "f5xKMdrtDYpy"
      },
      "execution_count": 6,
      "outputs": []
    },
    {
      "cell_type": "code",
      "source": [
        "class MaskedLinear(nn.Module):\n",
        "  def __init__(self,in_dim,out_dim):\n",
        "    super(MaskedLinear,self).__init__()\n",
        "    self.fc=nn.Linear(in_dim,out_dim)\n",
        "    self.mask1=mask(in_dim,out_dim).to(get_device())\n",
        "    self.register_buffer('mask',self.mask1)\n",
        "\n",
        "  def forward(self,x):\n",
        "    self.fc.weight.data*=self.mask\n",
        "    return self.fc(x)\n"
      ],
      "metadata": {
        "id": "JF9g2ui6DOl6"
      },
      "execution_count": 7,
      "outputs": []
    },
    {
      "cell_type": "code",
      "source": [
        "class Made(nn.Module):\n",
        "  def __init__(self,latent_dim):\n",
        "    super(Made,self).__init__()\n",
        "    self.ldim=latent_dim\n",
        "    self.fc1=MaskedLinear(784,latent_dim)\n",
        "    self.ln1=nn.LayerNorm(latent_dim)\n",
        "    self.fc2=MaskedLinear(latent_dim,784)\n",
        "    self.ln2=nn.LayerNorm(784)\n",
        "    self.ln3=nn.LayerNorm(784)\n",
        "    self.fc3=MaskedLinear(784,784)\n",
        "    self.fc4=MaskedLinear(784,784)\n",
        "    self.fc5=MaskedLinear(784,784)\n",
        "\n",
        "  def forward(self,x):\n",
        "    #x=x+torch.arange(784).to(get_device())\n",
        "    x=(F.relu(self.fc1(x)))\n",
        "    x=(F.relu(self.fc2(x)))\n",
        "    x=(F.relu(self.fc3(x)))\n",
        "    x=F.relu(self.fc4(x))\n",
        "    x=self.fc5(x)\n",
        "    return x"
      ],
      "metadata": {
        "id": "X4WNyS6iCCm-"
      },
      "execution_count": 124,
      "outputs": []
    },
    {
      "cell_type": "code",
      "source": [
        "lr_rate=0.001\n",
        "epochs=100\n",
        "model=Made(784)\n",
        "model.to(get_device())\n",
        "criterion=nn.BCELoss()\n",
        "optimizer=optim.Adam(model.parameters(),lr=lr_rate)"
      ],
      "metadata": {
        "id": "DaXWyNsMIMPq"
      },
      "execution_count": 125,
      "outputs": []
    },
    {
      "cell_type": "code",
      "source": [
        "loss_list=[]\n",
        "for epoch in range(epochs):\n",
        "  total_loss=0\n",
        "  length=0\n",
        "  for input,target in trainloader:\n",
        "    input,target=input.to(get_device()),target.to(get_device())\n",
        "    pred=F.sigmoid(model(input))\n",
        "    loss=criterion(pred,target)\n",
        "\n",
        "    total_loss+=loss.item()\n",
        "    length+=1\n",
        "    optimizer.zero_grad()\n",
        "    loss.backward()\n",
        "    optimizer.step()\n",
        "  print(f'total_loss ={total_loss},avg_loss={total_loss/length},epoch={epoch}')"
      ],
      "metadata": {
        "colab": {
          "base_uri": "https://localhost:8080/"
        },
        "id": "BFH5TD7JIo-C",
        "outputId": "26cde74c-7134-49b4-b30e-ee59dd94d1e0"
      },
      "execution_count": 126,
      "outputs": [
        {
          "output_type": "stream",
          "name": "stdout",
          "text": [
            "total_loss =73.94883427023888,avg_loss=0.3146758905116548,epoch=0\n",
            "total_loss =55.4858982861042,avg_loss=0.23611020547278383,epoch=1\n",
            "total_loss =51.41676799952984,avg_loss=0.21879475744480784,epoch=2\n",
            "total_loss =48.88380543887615,avg_loss=0.2080161933569198,epoch=3\n",
            "total_loss =46.57390131056309,avg_loss=0.1981868140875025,epoch=4\n",
            "total_loss =44.345501750707626,avg_loss=0.18870426276896862,epoch=5\n",
            "total_loss =42.648530185222626,avg_loss=0.18148310717116012,epoch=6\n",
            "total_loss =41.11115038394928,avg_loss=0.17494106546361396,epoch=7\n",
            "total_loss =39.651152566075325,avg_loss=0.1687283087918099,epoch=8\n",
            "total_loss =38.6245292276144,avg_loss=0.16435969884091237,epoch=9\n",
            "total_loss =37.75796124339104,avg_loss=0.16067217550379165,epoch=10\n",
            "total_loss =36.97546899318695,avg_loss=0.15734242124760406,epoch=11\n",
            "total_loss =36.350430488586426,avg_loss=0.154682682930155,epoch=12\n",
            "total_loss =35.8129917383194,avg_loss=0.1523957095247634,epoch=13\n",
            "total_loss =35.366165578365326,avg_loss=0.1504943216100652,epoch=14\n",
            "total_loss =34.88905666768551,avg_loss=0.1484640709263213,epoch=15\n",
            "total_loss =34.41396917402744,avg_loss=0.14644242201713806,epoch=16\n",
            "total_loss =33.97444273531437,avg_loss=0.1445720967460186,epoch=17\n",
            "total_loss =33.537396028637886,avg_loss=0.14271232352611865,epoch=18\n",
            "total_loss =33.041744098067284,avg_loss=0.1406031663747544,epoch=19\n",
            "total_loss =32.65583796799183,avg_loss=0.13896101262975247,epoch=20\n",
            "total_loss =32.249547615647316,avg_loss=0.13723211751339284,epoch=21\n",
            "total_loss =31.909183651208878,avg_loss=0.1357837602179101,epoch=22\n",
            "total_loss =31.624656692147255,avg_loss=0.13457300720062662,epoch=23\n",
            "total_loss =31.38139946758747,avg_loss=0.1335378700748403,epoch=24\n",
            "total_loss =31.20042285323143,avg_loss=0.1327677568222614,epoch=25\n",
            "total_loss =31.01553665101528,avg_loss=0.13198100702559695,epoch=26\n",
            "total_loss =30.865070462226868,avg_loss=0.13134072537117816,epoch=27\n",
            "total_loss =30.720815390348434,avg_loss=0.1307268740014827,epoch=28\n",
            "total_loss =30.55779568850994,avg_loss=0.1300331731425955,epoch=29\n",
            "total_loss =30.411548249423504,avg_loss=0.1294108436145681,epoch=30\n",
            "total_loss =30.273077361285686,avg_loss=0.12882160579270505,epoch=31\n",
            "total_loss =30.149710550904274,avg_loss=0.12829664064214585,epoch=32\n",
            "total_loss =30.018389999866486,avg_loss=0.1277378297866659,epoch=33\n",
            "total_loss =29.925134301185608,avg_loss=0.12734099702632173,epoch=34\n",
            "total_loss =29.834181755781174,avg_loss=0.12695396491821775,epoch=35\n",
            "total_loss =29.744336284697056,avg_loss=0.1265716437646683,epoch=36\n",
            "total_loss =29.647820122539997,avg_loss=0.12616093669165956,epoch=37\n",
            "total_loss =29.56274003535509,avg_loss=0.12579889376746847,epoch=38\n",
            "total_loss =29.476998426020145,avg_loss=0.12543403585540489,epoch=39\n",
            "total_loss =29.34028185158968,avg_loss=0.12485226319825396,epoch=40\n",
            "total_loss =29.17999891936779,avg_loss=0.12417020816752251,epoch=41\n",
            "total_loss =29.084909193217754,avg_loss=0.12376557103496917,epoch=42\n",
            "total_loss =28.9912271797657,avg_loss=0.12336692416921576,epoch=43\n",
            "total_loss =28.906093753874302,avg_loss=0.12300465427180554,epoch=44\n",
            "total_loss =28.837905570864677,avg_loss=0.12271449179091352,epoch=45\n",
            "total_loss =28.781004428863525,avg_loss=0.12247235927175969,epoch=46\n",
            "total_loss =28.702311128377914,avg_loss=0.12213749416331027,epoch=47\n",
            "total_loss =28.63024342805147,avg_loss=0.12183082309809137,epoch=48\n",
            "total_loss =28.57263495773077,avg_loss=0.12158568067119477,epoch=49\n",
            "total_loss =28.52411849051714,avg_loss=0.12137922761922187,epoch=50\n",
            "total_loss =28.446146085858345,avg_loss=0.1210474301525887,epoch=51\n",
            "total_loss =28.397205963730812,avg_loss=0.12083917431374813,epoch=52\n",
            "total_loss =28.35699687153101,avg_loss=0.12066807179374897,epoch=53\n",
            "total_loss =28.297953076660633,avg_loss=0.12041682160281121,epoch=54\n",
            "total_loss =28.245940379798412,avg_loss=0.12019549097786558,epoch=55\n",
            "total_loss =28.195499077439308,avg_loss=0.11998084713803961,epoch=56\n",
            "total_loss =28.157333962619305,avg_loss=0.1198184423941247,epoch=57\n",
            "total_loss =28.109466433525085,avg_loss=0.1196147507809578,epoch=58\n",
            "total_loss =28.06177008897066,avg_loss=0.11941178761264111,epoch=59\n",
            "total_loss =28.02232339978218,avg_loss=0.11924392936077524,epoch=60\n",
            "total_loss =27.98255331069231,avg_loss=0.11907469493911621,epoch=61\n",
            "total_loss =27.964116871356964,avg_loss=0.11899624200577431,epoch=62\n",
            "total_loss =27.91249792277813,avg_loss=0.11877658690543885,epoch=63\n",
            "total_loss =27.878651164472103,avg_loss=0.1186325581466898,epoch=64\n",
            "total_loss =27.85969465225935,avg_loss=0.11855189213727382,epoch=65\n",
            "total_loss =27.826810620725155,avg_loss=0.11841196008819214,epoch=66\n",
            "total_loss =27.79022167623043,avg_loss=0.11825626245204439,epoch=67\n",
            "total_loss =27.756742641329765,avg_loss=0.11811379847374369,epoch=68\n",
            "total_loss =27.738969907164574,avg_loss=0.11803816981772158,epoch=69\n",
            "total_loss =27.706816129386425,avg_loss=0.1179013452314316,epoch=70\n",
            "total_loss =27.686731815338135,avg_loss=0.11781588006526866,epoch=71\n",
            "total_loss =27.65769048780203,avg_loss=0.11769229994809374,epoch=72\n",
            "total_loss =27.626468643546104,avg_loss=0.1175594410363664,epoch=73\n",
            "total_loss =27.607065595686436,avg_loss=0.11747687487526143,epoch=74\n",
            "total_loss =27.57344913482666,avg_loss=0.11733382610564536,epoch=75\n",
            "total_loss =27.561435520648956,avg_loss=0.11728270434318705,epoch=76\n",
            "total_loss =27.532157585024834,avg_loss=0.1171581173830844,epoch=77\n",
            "total_loss =27.51242995262146,avg_loss=0.11707417001115515,epoch=78\n",
            "total_loss =27.48536577820778,avg_loss=0.11695900331152247,epoch=79\n",
            "total_loss =27.45826444774866,avg_loss=0.11684367850105813,epoch=80\n",
            "total_loss =27.435938097536564,avg_loss=0.11674867275547474,epoch=81\n",
            "total_loss =27.411533527076244,avg_loss=0.11664482351947338,epoch=82\n",
            "total_loss =27.391473531723022,avg_loss=0.11655946183711924,epoch=83\n",
            "total_loss =27.36781907081604,avg_loss=0.116458804556664,epoch=84\n",
            "total_loss =27.346710927784443,avg_loss=0.11636898267142316,epoch=85\n",
            "total_loss =27.323485620319843,avg_loss=0.11627015157582912,epoch=86\n",
            "total_loss =27.293925024569035,avg_loss=0.11614436180667674,epoch=87\n",
            "total_loss =27.265458568930626,avg_loss=0.11602322795289628,epoch=88\n",
            "total_loss =27.250991128385067,avg_loss=0.11596166437610667,epoch=89\n",
            "total_loss =27.23533559590578,avg_loss=0.11589504508896077,epoch=90\n",
            "total_loss =27.20574639737606,avg_loss=0.11576913360585557,epoch=91\n",
            "total_loss =27.17268644273281,avg_loss=0.11562845294779919,epoch=92\n",
            "total_loss =27.14886735379696,avg_loss=0.11552709512254025,epoch=93\n",
            "total_loss =27.140638403594494,avg_loss=0.11549207831316806,epoch=94\n",
            "total_loss =27.114197358489037,avg_loss=0.11537956322761292,epoch=95\n",
            "total_loss =27.093482680618763,avg_loss=0.1152914156622075,epoch=96\n",
            "total_loss =27.065361455082893,avg_loss=0.11517175087269316,epoch=97\n",
            "total_loss =27.07218699902296,avg_loss=0.11520079574052323,epoch=98\n",
            "total_loss =27.035514891147614,avg_loss=0.11504474421764942,epoch=99\n"
          ]
        }
      ]
    },
    {
      "cell_type": "code",
      "source": [
        "model.eval()\n",
        "with torch.no_grad():\n",
        "  x=data_t[9]\n",
        "  #x[0]=0\n",
        "  #x=torch.rand(784)\n",
        "  x=x.to('cuda:0')\n",
        "  x=F.sigmoid(model(x))\n",
        "    #print(x[28*14:28*15])\n",
        "\n",
        "  x=x.view(28,28)\n",
        "  x=x.to('cpu')\n",
        "  image_np = x.numpy()\n",
        "\n",
        "\n",
        "\n",
        "  # Display the image using matplotlib\n",
        "  plt.imshow(image_np, cmap='gray')  # 'gray' colormap is used for grayscale images\n",
        "  plt.axis('off')  # Turn off axis labels\n",
        "  plt.show()"
      ],
      "metadata": {
        "colab": {
          "base_uri": "https://localhost:8080/",
          "height": 406
        },
        "id": "4JbWcTIqLGkR",
        "outputId": "d2935d5b-3c07-4d0b-cdb8-0c4e2b9f8ded"
      },
      "execution_count": 127,
      "outputs": [
        {
          "output_type": "display_data",
          "data": {
            "text/plain": [
              "<Figure size 640x480 with 1 Axes>"
            ],
            "image/png": "[encoded data removed]"
          },
          "metadata": {}
        }
      ]
    },
    {
      "cell_type": "code",
      "execution_count": 149,
      "metadata": {
        "colab": {
          "base_uri": "https://localhost:8080/",
          "height": 406
        },
        "id": "5BlVKEb0twv6",
        "outputId": "48c45ad3-f817-422c-d46d-6d69170dd89c"
      },
      "outputs": [
        {
          "output_type": "display_data",
          "data": {
            "text/plain": [
              "<Figure size 640x480 with 1 Axes>"
            ],
            "image/png": "[encoded data removed]"
          },
          "metadata": {}
        }
      ],
      "source": [
        "model.eval()\n",
        "with torch.no_grad():\n",
        "  x=torch.zeros(784)\n",
        "  z=torch.zeros(784)\n",
        "  #z=z.to('cuda:0')\n",
        "  x=x.to(get_device())\n",
        "  y=torch.zeros(784)\n",
        "  y=y.to(get_device())\n",
        "  j=0\n",
        "  y[:j]=data_t[9,:j]\n",
        "  for i in range(784):\n",
        "    if i>j:\n",
        "      y[i]=x[i]\n",
        "      #print(y[:i])\n",
        "      x=F.sigmoid(model(y))\n",
        "      if i<783:\n",
        "          x=torch.bernoulli(x.float())\n",
        "      #print(x[:i])\n",
        "      x=2*x-1\n",
        "      #x=torch.bernoulli(x.float())\n",
        "\n",
        "x=0.5*x+0.5\n",
        "z=z.view(28,28)\n",
        "x=x.view(28,28)\n",
        "x=x.to('cpu')\n",
        "image_np = x.numpy()\n",
        "\n",
        "# Display the image using matplotlib\n",
        "plt.imshow(image_np, cmap='gray')  # 'gray' colormap is used for grayscale images\n",
        "plt.axis('off')  # Turn off axis labels\n",
        "plt.show()\n"
      ]
    },
    {
      "cell_type": "code",
      "execution_count": null,
      "metadata": {
        "id": "bzoo7fuXIGtS"
      },
      "outputs": [],
      "source": [
        "with torch.no_grad():\n",
        "    # Function to generate an image iteratively\n",
        "    def generate_image(model, initial_pixel=2, image_size=784):\n",
        "        # Initialize x with a single pixel\n",
        "        x = torch.tensor([[initial_pixel]])\n",
        "\n",
        "        # Move the tensor to the appropriate device\n",
        "        x = x.to(get_device())\n",
        "        x=x.to(dtype=torch.float32)\n",
        "        # Generate pixels iteratively\n",
        "        for i in range(1, image_size):\n",
        "            x_probs = F.sigmoid(model(x))\n",
        "            sampled_pixel=x_probs[0,i-1]\n",
        "            #print(x_probs)\n",
        "            #sampled_pixel = torch.bernoulli(x_probs[0,i-1])\n",
        "            #print(x_probs,sampled_pixel,x_probs[0,i-1]\n",
        "            #print(x,x.shape,sampled_pixel)\n",
        "            x = torch.cat([x, sampled_pixel.unsqueeze(1)], dim=1)\n",
        "\n",
        "            if i%30==0:\n",
        "                #print(x)\n",
        "                pass\n",
        "\n",
        "        # Reshape and convert to numpy for visualization\n",
        "        x = x.view(28, 28).detach().cpu().numpy()\n",
        "\n",
        "        return x\n",
        "\n",
        "    # Generate image iteratively starting with initial pixel 257\n",
        "    generated_image = generate_image(model)\n",
        "\n",
        "    # Display the sampled image using matplotlib\n",
        "    plt.imshow(generated_image, cmap='gray')  # 'gray' colormap is used for grayscale images\n",
        "    plt.axis('off')  # Turn off axis labels\n",
        "    plt.show()\n"
      ]
    }
  ]
}