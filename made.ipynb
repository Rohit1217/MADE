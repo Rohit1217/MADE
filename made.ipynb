{
  "nbformat": 4,
  "nbformat_minor": 0,
  "metadata": {
    "colab": {
      "provenance": [],
      "gpuType": "T4",
      "authorship_tag": "ABX9TyN+QonLOotQzVrGeduo4AZE",
      "include_colab_link": true
    },
    "kernelspec": {
      "name": "python3",
      "display_name": "Python 3"
    },
    "language_info": {
      "name": "python"
    },
    "accelerator": "GPU"
  },
  "cells": [
    {
      "cell_type": "markdown",
      "metadata": {
        "id": "view-in-github",
        "colab_type": "text"
      },
      "source": [
        "<a href=\"https://colab.research.google.com/github/Rohit1217/MADE/blob/main/made.ipynb\" target=\"_parent\"><img src=\"https://colab.research.google.com/assets/colab-badge.svg\" alt=\"Open In Colab\"/></a>"
      ]
    },
    {
      "cell_type": "code",
      "execution_count": 2,
      "metadata": {
        "id": "bSWAAxPk_xPC"
      },
      "outputs": [],
      "source": [
        "import matplotlib.pyplot as plt\n",
        "import numpy as np\n",
        "\n",
        "import torch,torchvision\n",
        "from torch.utils.data import DataLoader,TensorDataset\n",
        "import torch.nn as nn\n",
        "import torch.optim as optim\n",
        "import torch.nn.functional as F\n",
        "from torchvision import datasets,transforms\n"
      ]
    },
    {
      "cell_type": "code",
      "source": [
        "trainset = datasets.MNIST('~/.pytorch/MNIST_data/', download=True, train=True)\n",
        "\n",
        "data=trainset.data\n",
        "data=data.to(dtype=torch.float32)\n",
        "norm = transforms.Normalize((128,),(128,))\n",
        "data=norm(data)\n",
        "\n",
        "data_target=data*0.5+0.5\n",
        "data=data.view(60000,784)\n",
        "data=data.to(dtype=torch.float32)\n",
        "data_target=data_target.view(60000,784)\n",
        "#new_column = torch.full((60000, 1), 0)\n",
        "#data = torch.cat((new_column, data[:, :-1]), dim=1)\n",
        "\n",
        "trainset=TensorDataset(data,data_target)\n",
        "trainloader=DataLoader(trainset,batch_size=256,shuffle=True)"
      ],
      "metadata": {
        "id": "zyY81xgQBFkb"
      },
      "execution_count": 365,
      "outputs": []
    },
    {
      "cell_type": "code",
      "source": [
        "testset = datasets.MNIST('~/.pytorch/MNIST_data/', download=True, train=False)\n",
        "data_t=testset.data\n",
        "data_t=data_t.to(dtype=torch.float32)\n",
        "norm = transforms.Normalize((128,),(128,))\n",
        "data_t=norm(data_t)\n",
        "data_t=data_t.view(10000,784)\n",
        "new_column = torch.full((10000, 1), 2)\n",
        "data_t = torch.cat((new_column, data_t[:, :-1]), dim=1)"
      ],
      "metadata": {
        "id": "cOtZelFod9Jd"
      },
      "execution_count": 69,
      "outputs": []
    },
    {
      "cell_type": "code",
      "source": [
        "def get_device():\n",
        "  return torch.device(\"cuda\" if torch.cuda.is_available() else \"cpu\")"
      ],
      "metadata": {
        "id": "htY-ACYvHuUX"
      },
      "execution_count": 4,
      "outputs": []
    },
    {
      "cell_type": "code",
      "source": [
        "def masker(mask):\n",
        "  out,inn=mask.shape\n",
        "  stride=inn/out\n",
        "  for i in range(out):\n",
        "\n",
        "    for j in range(inn):\n",
        "      if j>=(i)*stride:\n",
        "        mask[i,j]=0\n",
        "  return mask\n",
        "x=torch.ones(5,5)\n",
        "masker(x)"
      ],
      "metadata": {
        "colab": {
          "base_uri": "https://localhost:8080/"
        },
        "id": "UWiRMWYDFmpd",
        "outputId": "e5b4b1cb-a7d2-4550-899d-13e0b07a4862"
      },
      "execution_count": 215,
      "outputs": [
        {
          "output_type": "execute_result",
          "data": {
            "text/plain": [
              "tensor([[0., 0., 0., 0., 0.],\n",
              "        [1., 0., 0., 0., 0.],\n",
              "        [1., 1., 0., 0., 0.],\n",
              "        [1., 1., 1., 0., 0.],\n",
              "        [1., 1., 1., 1., 0.]])"
            ]
          },
          "metadata": {},
          "execution_count": 215
        }
      ]
    },
    {
      "cell_type": "code",
      "source": [
        "def mask(inn,out):\n",
        "  mask=torch.ones(out,inn)\n",
        "  return masker(mask)\n",
        "#mask(5,5)"
      ],
      "metadata": {
        "id": "f5xKMdrtDYpy"
      },
      "execution_count": 6,
      "outputs": []
    },
    {
      "cell_type": "code",
      "source": [
        "class MaskedLinear(nn.Module):\n",
        "  def __init__(self,in_dim,out_dim):\n",
        "    super(MaskedLinear,self).__init__()\n",
        "    self.fc=nn.Linear(in_dim,out_dim)\n",
        "    self.mask1=mask(in_dim,out_dim).to(get_device())\n",
        "    self.register_buffer('mask',self.mask1)\n",
        "\n",
        "  def forward(self,x):\n",
        "    self.fc.weight.data*=self.mask\n",
        "    return self.fc(x)\n"
      ],
      "metadata": {
        "id": "JF9g2ui6DOl6"
      },
      "execution_count": 7,
      "outputs": []
    },
    {
      "cell_type": "code",
      "source": [
        "class Made(nn.Module):\n",
        "  def __init__(self,latent_dim):\n",
        "    super(Made,self).__init__()\n",
        "    self.ldim=latent_dim\n",
        "    self.fc1=MaskedLinear(784,latent_dim)\n",
        "    self.ln1=nn.LayerNorm(latent_dim)\n",
        "    self.fc2=MaskedLinear(latent_dim,784)\n",
        "    self.ln2=nn.LayerNorm(784)\n",
        "    self.ln3=nn.LayerNorm(784)\n",
        "    self.fc3=MaskedLinear(784,784)\n",
        "    self.fc4=MaskedLinear(784,784)\n",
        "\n",
        "  def forward(self,x):\n",
        "    #x=x+torch.arange(784).to(get_device())\n",
        "    x=(F.gelu(self.fc1(x)))\n",
        "    x=(F.gelu(self.fc2(x)))\n",
        "    x=self.fc3(x)\n",
        "    return x"
      ],
      "metadata": {
        "id": "X4WNyS6iCCm-"
      },
      "execution_count": 367,
      "outputs": []
    },
    {
      "cell_type": "code",
      "source": [
        "torch.arange(784)"
      ],
      "metadata": {
        "id": "okFIA8Rdm2EA"
      },
      "execution_count": null,
      "outputs": []
    },
    {
      "cell_type": "code",
      "source": [
        "lr_rate=0.001\n",
        "epochs=100\n",
        "model=Made(784)\n",
        "model.to(get_device())\n",
        "criterion=nn.BCELoss()\n",
        "optimizer=optim.Adam(model.parameters(),lr=lr_rate)"
      ],
      "metadata": {
        "id": "DaXWyNsMIMPq"
      },
      "execution_count": 368,
      "outputs": []
    },
    {
      "cell_type": "code",
      "source": [
        "loss_list=[]\n",
        "for epoch in range(epochs):\n",
        "  total_loss=0\n",
        "  length=0\n",
        "  for input,target in trainloader:\n",
        "    input,target=input.to(get_device()),target.to(get_device())\n",
        "    pred=F.sigmoid(model(input))\n",
        "    loss=criterion(pred,target)\n",
        "\n",
        "    total_loss+=loss.item()\n",
        "    length+=1\n",
        "    optimizer.zero_grad()\n",
        "    loss.backward()\n",
        "    optimizer.step()\n",
        "  print(f'total_loss ={total_loss},avg_loss={total_loss/length},epoch={epoch}')"
      ],
      "metadata": {
        "colab": {
          "base_uri": "https://localhost:8080/",
          "height": 1000
        },
        "id": "BFH5TD7JIo-C",
        "outputId": "e7cef242-0461-4207-d1a7-87648b791d8f"
      },
      "execution_count": 369,
      "outputs": [
        {
          "output_type": "stream",
          "name": "stdout",
          "text": [
            "total_loss =65.3124200552702,avg_loss=0.27792519172455404,epoch=0\n",
            "total_loss =45.57172390818596,avg_loss=0.193922229396536,epoch=1\n",
            "total_loss =38.434158980846405,avg_loss=0.16354961268445278,epoch=2\n",
            "total_loss =34.7601478099823,avg_loss=0.14791552259566937,epoch=3\n",
            "total_loss =32.494305178523064,avg_loss=0.13827363905754494,epoch=4\n",
            "total_loss =31.050043240189552,avg_loss=0.13212784357527468,epoch=5\n",
            "total_loss =30.07455288618803,avg_loss=0.1279768207922895,epoch=6\n",
            "total_loss =29.35208483785391,avg_loss=0.12490248867171876,epoch=7\n",
            "total_loss =28.815344825387,avg_loss=0.12261848861866809,epoch=8\n",
            "total_loss =28.3579540848732,avg_loss=0.12067214504201361,epoch=9\n",
            "total_loss =27.984390899538994,avg_loss=0.11908251446612338,epoch=10\n",
            "total_loss =27.685320876538754,avg_loss=0.11780987607037767,epoch=11\n",
            "total_loss =27.44193198531866,avg_loss=0.11677417866093047,epoch=12\n",
            "total_loss =27.208999790251255,avg_loss=0.1157829778308564,epoch=13\n",
            "total_loss =27.032208874821663,avg_loss=0.11503067606307091,epoch=14\n",
            "total_loss =26.86080039292574,avg_loss=0.1143012782677691,epoch=15\n",
            "total_loss =26.696112036705017,avg_loss=0.11360047675193624,epoch=16\n",
            "total_loss =26.55193033069372,avg_loss=0.1129869375774201,epoch=17\n",
            "total_loss =26.428949013352394,avg_loss=0.11246361282277614,epoch=18\n",
            "total_loss =26.324805073440075,avg_loss=0.11202044712102159,epoch=19\n",
            "total_loss =26.208000600337982,avg_loss=0.11152340680994886,epoch=20\n",
            "total_loss =26.122568607330322,avg_loss=0.11115986641417158,epoch=21\n",
            "total_loss =26.016529127955437,avg_loss=0.11070863458704441,epoch=22\n",
            "total_loss =25.93313203752041,avg_loss=0.11035375335115068,epoch=23\n",
            "total_loss =25.86492072045803,avg_loss=0.11006349242748098,epoch=24\n",
            "total_loss =25.782734416425228,avg_loss=0.1097137634741499,epoch=25\n",
            "total_loss =25.71869558095932,avg_loss=0.10944125779131625,epoch=26\n",
            "total_loss =25.644476547837257,avg_loss=0.10912543211845642,epoch=27\n",
            "total_loss =25.593884401023388,avg_loss=0.10891014638733357,epoch=28\n",
            "total_loss =25.538111433386803,avg_loss=0.10867281461015661,epoch=29\n",
            "total_loss =25.479367040097713,avg_loss=0.10842283846850091,epoch=30\n",
            "total_loss =25.42577826231718,avg_loss=0.10819480111624333,epoch=31\n",
            "total_loss =25.37971419841051,avg_loss=0.10799878382302346,epoch=32\n",
            "total_loss =25.332066923379898,avg_loss=0.10779602946119106,epoch=33\n",
            "total_loss =25.291399635374546,avg_loss=0.10762297717180658,epoch=34\n",
            "total_loss =25.256056003272533,avg_loss=0.10747257873732993,epoch=35\n",
            "total_loss =25.210647590458393,avg_loss=0.10727935144875912,epoch=36\n",
            "total_loss =25.173230178654194,avg_loss=0.10712012841980507,epoch=37\n",
            "total_loss =25.12966001033783,avg_loss=0.10693472344824609,epoch=38\n",
            "total_loss =25.092315047979355,avg_loss=0.10677580871480577,epoch=39\n",
            "total_loss =25.078441090881824,avg_loss=0.10671677059949712,epoch=40\n",
            "total_loss =25.033828482031822,avg_loss=0.10652692971077371,epoch=41\n",
            "total_loss =25.01187239587307,avg_loss=0.10643349955690667,epoch=42\n",
            "total_loss =24.97253066301346,avg_loss=0.10626608792771684,epoch=43\n",
            "total_loss =24.95401957631111,avg_loss=0.10618731734600473,epoch=44\n",
            "total_loss =24.920716404914856,avg_loss=0.10604560172304194,epoch=45\n",
            "total_loss =24.892290994524956,avg_loss=0.10592464252989343,epoch=46\n",
            "total_loss =24.875163204967976,avg_loss=0.10585175831901267,epoch=47\n",
            "total_loss =24.851498872041702,avg_loss=0.10575105902996469,epoch=48\n",
            "total_loss =24.829472832381725,avg_loss=0.10565733120162436,epoch=49\n",
            "total_loss =24.806299336254597,avg_loss=0.1055587205798068,epoch=50\n",
            "total_loss =24.783456452190876,avg_loss=0.10546151681783351,epoch=51\n",
            "total_loss =24.76070362329483,avg_loss=0.1053646962693397,epoch=52\n",
            "total_loss =24.739270262420177,avg_loss=0.10527349047838373,epoch=53\n",
            "total_loss =24.723588675260544,avg_loss=0.10520676032025764,epoch=54\n",
            "total_loss =24.714211881160736,avg_loss=0.10516685906876909,epoch=55\n",
            "total_loss =24.678912073373795,avg_loss=0.10501664712073955,epoch=56\n",
            "total_loss =24.66594587266445,avg_loss=0.10496147179857214,epoch=57\n",
            "total_loss =24.65489673614502,avg_loss=0.10491445419636179,epoch=58\n",
            "total_loss =24.63216633349657,avg_loss=0.10481772907870882,epoch=59\n",
            "total_loss =24.616217903792858,avg_loss=0.10474986342039515,epoch=60\n",
            "total_loss =24.60199698805809,avg_loss=0.10468934888535357,epoch=61\n",
            "total_loss =24.583781979978085,avg_loss=0.1046118382126727,epoch=62\n",
            "total_loss =24.57868432253599,avg_loss=0.10459014605334464,epoch=63\n",
            "total_loss =24.560846157371998,avg_loss=0.10451423896754042,epoch=64\n",
            "total_loss =24.543796613812447,avg_loss=0.10444168771835084,epoch=65\n",
            "total_loss =24.53204683959484,avg_loss=0.10439168867912699,epoch=66\n",
            "total_loss =24.519574500620365,avg_loss=0.10433861489625687,epoch=67\n"
          ]
        },
        {
          "output_type": "error",
          "ename": "KeyboardInterrupt",
          "evalue": "",
          "traceback": [
            "\u001b[0;31m---------------------------------------------------------------------------\u001b[0m",
            "\u001b[0;31mKeyboardInterrupt\u001b[0m                         Traceback (most recent call last)",
            "\u001b[0;32m<ipython-input-369-1250288ad0ef>\u001b[0m in \u001b[0;36m<cell line: 2>\u001b[0;34m()\u001b[0m\n\u001b[1;32m      5\u001b[0m   \u001b[0;32mfor\u001b[0m \u001b[0minput\u001b[0m\u001b[0;34m,\u001b[0m\u001b[0mtarget\u001b[0m \u001b[0;32min\u001b[0m \u001b[0mtrainloader\u001b[0m\u001b[0;34m:\u001b[0m\u001b[0;34m\u001b[0m\u001b[0;34m\u001b[0m\u001b[0m\n\u001b[1;32m      6\u001b[0m     \u001b[0minput\u001b[0m\u001b[0;34m,\u001b[0m\u001b[0mtarget\u001b[0m\u001b[0;34m=\u001b[0m\u001b[0minput\u001b[0m\u001b[0;34m.\u001b[0m\u001b[0mto\u001b[0m\u001b[0;34m(\u001b[0m\u001b[0mget_device\u001b[0m\u001b[0;34m(\u001b[0m\u001b[0;34m)\u001b[0m\u001b[0;34m)\u001b[0m\u001b[0;34m,\u001b[0m\u001b[0mtarget\u001b[0m\u001b[0;34m.\u001b[0m\u001b[0mto\u001b[0m\u001b[0;34m(\u001b[0m\u001b[0mget_device\u001b[0m\u001b[0;34m(\u001b[0m\u001b[0;34m)\u001b[0m\u001b[0;34m)\u001b[0m\u001b[0;34m\u001b[0m\u001b[0;34m\u001b[0m\u001b[0m\n\u001b[0;32m----> 7\u001b[0;31m     \u001b[0mpred\u001b[0m\u001b[0;34m=\u001b[0m\u001b[0mF\u001b[0m\u001b[0;34m.\u001b[0m\u001b[0msigmoid\u001b[0m\u001b[0;34m(\u001b[0m\u001b[0mmodel\u001b[0m\u001b[0;34m(\u001b[0m\u001b[0minput\u001b[0m\u001b[0;34m)\u001b[0m\u001b[0;34m)\u001b[0m\u001b[0;34m\u001b[0m\u001b[0;34m\u001b[0m\u001b[0m\n\u001b[0m\u001b[1;32m      8\u001b[0m     \u001b[0mloss\u001b[0m\u001b[0;34m=\u001b[0m\u001b[0mcriterion\u001b[0m\u001b[0;34m(\u001b[0m\u001b[0mpred\u001b[0m\u001b[0;34m,\u001b[0m\u001b[0mtarget\u001b[0m\u001b[0;34m)\u001b[0m\u001b[0;34m\u001b[0m\u001b[0;34m\u001b[0m\u001b[0m\n\u001b[1;32m      9\u001b[0m \u001b[0;34m\u001b[0m\u001b[0m\n",
            "\u001b[0;32m/usr/local/lib/python3.10/dist-packages/torch/nn/modules/module.py\u001b[0m in \u001b[0;36m_wrapped_call_impl\u001b[0;34m(self, *args, **kwargs)\u001b[0m\n\u001b[1;32m   1516\u001b[0m             \u001b[0;32mreturn\u001b[0m \u001b[0mself\u001b[0m\u001b[0;34m.\u001b[0m\u001b[0m_compiled_call_impl\u001b[0m\u001b[0;34m(\u001b[0m\u001b[0;34m*\u001b[0m\u001b[0margs\u001b[0m\u001b[0;34m,\u001b[0m \u001b[0;34m**\u001b[0m\u001b[0mkwargs\u001b[0m\u001b[0;34m)\u001b[0m  \u001b[0;31m# type: ignore[misc]\u001b[0m\u001b[0;34m\u001b[0m\u001b[0;34m\u001b[0m\u001b[0m\n\u001b[1;32m   1517\u001b[0m         \u001b[0;32melse\u001b[0m\u001b[0;34m:\u001b[0m\u001b[0;34m\u001b[0m\u001b[0;34m\u001b[0m\u001b[0m\n\u001b[0;32m-> 1518\u001b[0;31m             \u001b[0;32mreturn\u001b[0m \u001b[0mself\u001b[0m\u001b[0;34m.\u001b[0m\u001b[0m_call_impl\u001b[0m\u001b[0;34m(\u001b[0m\u001b[0;34m*\u001b[0m\u001b[0margs\u001b[0m\u001b[0;34m,\u001b[0m \u001b[0;34m**\u001b[0m\u001b[0mkwargs\u001b[0m\u001b[0;34m)\u001b[0m\u001b[0;34m\u001b[0m\u001b[0;34m\u001b[0m\u001b[0m\n\u001b[0m\u001b[1;32m   1519\u001b[0m \u001b[0;34m\u001b[0m\u001b[0m\n\u001b[1;32m   1520\u001b[0m     \u001b[0;32mdef\u001b[0m \u001b[0m_call_impl\u001b[0m\u001b[0;34m(\u001b[0m\u001b[0mself\u001b[0m\u001b[0;34m,\u001b[0m \u001b[0;34m*\u001b[0m\u001b[0margs\u001b[0m\u001b[0;34m,\u001b[0m \u001b[0;34m**\u001b[0m\u001b[0mkwargs\u001b[0m\u001b[0;34m)\u001b[0m\u001b[0;34m:\u001b[0m\u001b[0;34m\u001b[0m\u001b[0;34m\u001b[0m\u001b[0m\n",
            "\u001b[0;32m/usr/local/lib/python3.10/dist-packages/torch/nn/modules/module.py\u001b[0m in \u001b[0;36m_call_impl\u001b[0;34m(self, *args, **kwargs)\u001b[0m\n\u001b[1;32m   1525\u001b[0m                 \u001b[0;32mor\u001b[0m \u001b[0m_global_backward_pre_hooks\u001b[0m \u001b[0;32mor\u001b[0m \u001b[0m_global_backward_hooks\u001b[0m\u001b[0;34m\u001b[0m\u001b[0;34m\u001b[0m\u001b[0m\n\u001b[1;32m   1526\u001b[0m                 or _global_forward_hooks or _global_forward_pre_hooks):\n\u001b[0;32m-> 1527\u001b[0;31m             \u001b[0;32mreturn\u001b[0m \u001b[0mforward_call\u001b[0m\u001b[0;34m(\u001b[0m\u001b[0;34m*\u001b[0m\u001b[0margs\u001b[0m\u001b[0;34m,\u001b[0m \u001b[0;34m**\u001b[0m\u001b[0mkwargs\u001b[0m\u001b[0;34m)\u001b[0m\u001b[0;34m\u001b[0m\u001b[0;34m\u001b[0m\u001b[0m\n\u001b[0m\u001b[1;32m   1528\u001b[0m \u001b[0;34m\u001b[0m\u001b[0m\n\u001b[1;32m   1529\u001b[0m         \u001b[0;32mtry\u001b[0m\u001b[0;34m:\u001b[0m\u001b[0;34m\u001b[0m\u001b[0;34m\u001b[0m\u001b[0m\n",
            "\u001b[0;32m<ipython-input-367-89aeb193ec5b>\u001b[0m in \u001b[0;36mforward\u001b[0;34m(self, x)\u001b[0m\n\u001b[1;32m     14\u001b[0m     \u001b[0;31m#x=x+torch.arange(784).to(get_device())\u001b[0m\u001b[0;34m\u001b[0m\u001b[0;34m\u001b[0m\u001b[0m\n\u001b[1;32m     15\u001b[0m     \u001b[0mx\u001b[0m\u001b[0;34m=\u001b[0m\u001b[0;34m(\u001b[0m\u001b[0mF\u001b[0m\u001b[0;34m.\u001b[0m\u001b[0mgelu\u001b[0m\u001b[0;34m(\u001b[0m\u001b[0mself\u001b[0m\u001b[0;34m.\u001b[0m\u001b[0mfc1\u001b[0m\u001b[0;34m(\u001b[0m\u001b[0mx\u001b[0m\u001b[0;34m)\u001b[0m\u001b[0;34m)\u001b[0m\u001b[0;34m)\u001b[0m\u001b[0;34m\u001b[0m\u001b[0;34m\u001b[0m\u001b[0m\n\u001b[0;32m---> 16\u001b[0;31m     \u001b[0mx\u001b[0m\u001b[0;34m=\u001b[0m\u001b[0;34m(\u001b[0m\u001b[0mF\u001b[0m\u001b[0;34m.\u001b[0m\u001b[0mgelu\u001b[0m\u001b[0;34m(\u001b[0m\u001b[0mself\u001b[0m\u001b[0;34m.\u001b[0m\u001b[0mfc2\u001b[0m\u001b[0;34m(\u001b[0m\u001b[0mx\u001b[0m\u001b[0;34m)\u001b[0m\u001b[0;34m)\u001b[0m\u001b[0;34m)\u001b[0m\u001b[0;34m\u001b[0m\u001b[0;34m\u001b[0m\u001b[0m\n\u001b[0m\u001b[1;32m     17\u001b[0m     \u001b[0mx\u001b[0m\u001b[0;34m=\u001b[0m\u001b[0mself\u001b[0m\u001b[0;34m.\u001b[0m\u001b[0mfc3\u001b[0m\u001b[0;34m(\u001b[0m\u001b[0mx\u001b[0m\u001b[0;34m)\u001b[0m\u001b[0;34m\u001b[0m\u001b[0;34m\u001b[0m\u001b[0m\n\u001b[1;32m     18\u001b[0m     \u001b[0;32mreturn\u001b[0m \u001b[0mx\u001b[0m\u001b[0;34m\u001b[0m\u001b[0;34m\u001b[0m\u001b[0m\n",
            "\u001b[0;32m/usr/local/lib/python3.10/dist-packages/torch/nn/modules/module.py\u001b[0m in \u001b[0;36m_wrapped_call_impl\u001b[0;34m(self, *args, **kwargs)\u001b[0m\n\u001b[1;32m   1516\u001b[0m             \u001b[0;32mreturn\u001b[0m \u001b[0mself\u001b[0m\u001b[0;34m.\u001b[0m\u001b[0m_compiled_call_impl\u001b[0m\u001b[0;34m(\u001b[0m\u001b[0;34m*\u001b[0m\u001b[0margs\u001b[0m\u001b[0;34m,\u001b[0m \u001b[0;34m**\u001b[0m\u001b[0mkwargs\u001b[0m\u001b[0;34m)\u001b[0m  \u001b[0;31m# type: ignore[misc]\u001b[0m\u001b[0;34m\u001b[0m\u001b[0;34m\u001b[0m\u001b[0m\n\u001b[1;32m   1517\u001b[0m         \u001b[0;32melse\u001b[0m\u001b[0;34m:\u001b[0m\u001b[0;34m\u001b[0m\u001b[0;34m\u001b[0m\u001b[0m\n\u001b[0;32m-> 1518\u001b[0;31m             \u001b[0;32mreturn\u001b[0m \u001b[0mself\u001b[0m\u001b[0;34m.\u001b[0m\u001b[0m_call_impl\u001b[0m\u001b[0;34m(\u001b[0m\u001b[0;34m*\u001b[0m\u001b[0margs\u001b[0m\u001b[0;34m,\u001b[0m \u001b[0;34m**\u001b[0m\u001b[0mkwargs\u001b[0m\u001b[0;34m)\u001b[0m\u001b[0;34m\u001b[0m\u001b[0;34m\u001b[0m\u001b[0m\n\u001b[0m\u001b[1;32m   1519\u001b[0m \u001b[0;34m\u001b[0m\u001b[0m\n\u001b[1;32m   1520\u001b[0m     \u001b[0;32mdef\u001b[0m \u001b[0m_call_impl\u001b[0m\u001b[0;34m(\u001b[0m\u001b[0mself\u001b[0m\u001b[0;34m,\u001b[0m \u001b[0;34m*\u001b[0m\u001b[0margs\u001b[0m\u001b[0;34m,\u001b[0m \u001b[0;34m**\u001b[0m\u001b[0mkwargs\u001b[0m\u001b[0;34m)\u001b[0m\u001b[0;34m:\u001b[0m\u001b[0;34m\u001b[0m\u001b[0;34m\u001b[0m\u001b[0m\n",
            "\u001b[0;32m/usr/local/lib/python3.10/dist-packages/torch/nn/modules/module.py\u001b[0m in \u001b[0;36m_call_impl\u001b[0;34m(self, *args, **kwargs)\u001b[0m\n\u001b[1;32m   1525\u001b[0m                 \u001b[0;32mor\u001b[0m \u001b[0m_global_backward_pre_hooks\u001b[0m \u001b[0;32mor\u001b[0m \u001b[0m_global_backward_hooks\u001b[0m\u001b[0;34m\u001b[0m\u001b[0;34m\u001b[0m\u001b[0m\n\u001b[1;32m   1526\u001b[0m                 or _global_forward_hooks or _global_forward_pre_hooks):\n\u001b[0;32m-> 1527\u001b[0;31m             \u001b[0;32mreturn\u001b[0m \u001b[0mforward_call\u001b[0m\u001b[0;34m(\u001b[0m\u001b[0;34m*\u001b[0m\u001b[0margs\u001b[0m\u001b[0;34m,\u001b[0m \u001b[0;34m**\u001b[0m\u001b[0mkwargs\u001b[0m\u001b[0;34m)\u001b[0m\u001b[0;34m\u001b[0m\u001b[0;34m\u001b[0m\u001b[0m\n\u001b[0m\u001b[1;32m   1528\u001b[0m \u001b[0;34m\u001b[0m\u001b[0m\n\u001b[1;32m   1529\u001b[0m         \u001b[0;32mtry\u001b[0m\u001b[0;34m:\u001b[0m\u001b[0;34m\u001b[0m\u001b[0;34m\u001b[0m\u001b[0m\n",
            "\u001b[0;32m<ipython-input-7-c1241557ff27>\u001b[0m in \u001b[0;36mforward\u001b[0;34m(self, x)\u001b[0m\n\u001b[1;32m      8\u001b[0m   \u001b[0;32mdef\u001b[0m \u001b[0mforward\u001b[0m\u001b[0;34m(\u001b[0m\u001b[0mself\u001b[0m\u001b[0;34m,\u001b[0m\u001b[0mx\u001b[0m\u001b[0;34m)\u001b[0m\u001b[0;34m:\u001b[0m\u001b[0;34m\u001b[0m\u001b[0;34m\u001b[0m\u001b[0m\n\u001b[1;32m      9\u001b[0m     \u001b[0mself\u001b[0m\u001b[0;34m.\u001b[0m\u001b[0mfc\u001b[0m\u001b[0;34m.\u001b[0m\u001b[0mweight\u001b[0m\u001b[0;34m.\u001b[0m\u001b[0mdata\u001b[0m\u001b[0;34m*=\u001b[0m\u001b[0mself\u001b[0m\u001b[0;34m.\u001b[0m\u001b[0mmask\u001b[0m\u001b[0;34m\u001b[0m\u001b[0;34m\u001b[0m\u001b[0m\n\u001b[0;32m---> 10\u001b[0;31m     \u001b[0;32mreturn\u001b[0m \u001b[0mself\u001b[0m\u001b[0;34m.\u001b[0m\u001b[0mfc\u001b[0m\u001b[0;34m(\u001b[0m\u001b[0mx\u001b[0m\u001b[0;34m)\u001b[0m\u001b[0;34m\u001b[0m\u001b[0;34m\u001b[0m\u001b[0m\n\u001b[0m",
            "\u001b[0;32m/usr/local/lib/python3.10/dist-packages/torch/nn/modules/module.py\u001b[0m in \u001b[0;36m__getattr__\u001b[0;34m(self, name)\u001b[0m\n\u001b[1;32m   1680\u001b[0m     \u001b[0;31m# See full discussion on the problems with returning `Union` here\u001b[0m\u001b[0;34m\u001b[0m\u001b[0;34m\u001b[0m\u001b[0m\n\u001b[1;32m   1681\u001b[0m     \u001b[0;31m# https://github.com/microsoft/pyright/issues/4213\u001b[0m\u001b[0;34m\u001b[0m\u001b[0;34m\u001b[0m\u001b[0m\n\u001b[0;32m-> 1682\u001b[0;31m     \u001b[0;32mdef\u001b[0m \u001b[0m__getattr__\u001b[0m\u001b[0;34m(\u001b[0m\u001b[0mself\u001b[0m\u001b[0;34m,\u001b[0m \u001b[0mname\u001b[0m\u001b[0;34m:\u001b[0m \u001b[0mstr\u001b[0m\u001b[0;34m)\u001b[0m \u001b[0;34m->\u001b[0m \u001b[0mAny\u001b[0m\u001b[0;34m:\u001b[0m\u001b[0;34m\u001b[0m\u001b[0;34m\u001b[0m\u001b[0m\n\u001b[0m\u001b[1;32m   1683\u001b[0m         \u001b[0;32mif\u001b[0m \u001b[0;34m'_parameters'\u001b[0m \u001b[0;32min\u001b[0m \u001b[0mself\u001b[0m\u001b[0;34m.\u001b[0m\u001b[0m__dict__\u001b[0m\u001b[0;34m:\u001b[0m\u001b[0;34m\u001b[0m\u001b[0;34m\u001b[0m\u001b[0m\n\u001b[1;32m   1684\u001b[0m             \u001b[0m_parameters\u001b[0m \u001b[0;34m=\u001b[0m \u001b[0mself\u001b[0m\u001b[0;34m.\u001b[0m\u001b[0m__dict__\u001b[0m\u001b[0;34m[\u001b[0m\u001b[0;34m'_parameters'\u001b[0m\u001b[0;34m]\u001b[0m\u001b[0;34m\u001b[0m\u001b[0;34m\u001b[0m\u001b[0m\n",
            "\u001b[0;31mKeyboardInterrupt\u001b[0m: "
          ]
        }
      ]
    },
    {
      "cell_type": "code",
      "source": [
        "model.eval()\n",
        "with torch.no_grad():\n",
        "  x=data_t[9]\n",
        "  #x[0]=0\n",
        "  #x=torch.rand(784)\n",
        "  x=x.to('cuda:0')\n",
        "  x=F.sigmoid(model(x))\n",
        "    #print(x[28*14:28*15])\n",
        "\n",
        "  x=x.view(28,28)\n",
        "  x=x.to('cpu')\n",
        "  image_np = x.numpy()\n",
        "\n",
        "\n",
        "\n",
        "  # Display the image using matplotlib\n",
        "  plt.imshow(image_np, cmap='gray')  # 'gray' colormap is used for grayscale images\n",
        "  plt.axis('off')  # Turn off axis labels\n",
        "  plt.show()"
      ],
      "metadata": {
        "id": "4JbWcTIqLGkR"
      },
      "execution_count": null,
      "outputs": []
    },
    {
      "cell_type": "code",
      "execution_count": 401,
      "metadata": {
        "colab": {
          "base_uri": "https://localhost:8080/",
          "height": 406
        },
        "id": "5BlVKEb0twv6",
        "outputId": "1083d4e2-f734-4b56-d317-b3e0de6b61bd"
      },
      "outputs": [
        {
          "output_type": "display_data",
          "data": {
            "text/plain": [
              "<Figure size 640x480 with 1 Axes>"
            ],
            "image/png": "[encoded data removed]"
          },
          "metadata": {}
        }
      ],
      "source": [
        "model.eval()\n",
        "with torch.no_grad():\n",
        "  x=torch.zeros(784)\n",
        "  z=torch.zeros(784)\n",
        "  #z=z.to('cuda:0')\n",
        "  x=x.to(get_device())\n",
        "  y=torch.zeros(784)\n",
        "  y=y.to(get_device())\n",
        "\n",
        "  for i in range(784):\n",
        "    y[i]=x[i]\n",
        "    #print(y[:i])\n",
        "    x=F.sigmoid(model(y))\n",
        "    if i<750:\n",
        "        x=torch.bernoulli(x.float())\n",
        "    #print(x[:i])\n",
        "    x=2*x-1\n",
        "    #x=torch.bernoulli(x.float())\n",
        "\n",
        "x=0.5*x+0.5\n",
        "z=z.view(28,28)\n",
        "x=x.view(28,28)\n",
        "x=x.to('cpu')\n",
        "image_np = x.numpy()\n",
        "\n",
        "# Display the image using matplotlib\n",
        "plt.imshow(image_np, cmap='gray')  # 'gray' colormap is used for grayscale images\n",
        "plt.axis('off')  # Turn off axis labels\n",
        "plt.show()\n"
      ]
    },
    {
      "cell_type": "code",
      "execution_count": null,
      "metadata": {
        "id": "bzoo7fuXIGtS"
      },
      "outputs": [],
      "source": [
        "with torch.no_grad():\n",
        "    # Function to generate an image iteratively\n",
        "    def generate_image(model, initial_pixel=2, image_size=784):\n",
        "        # Initialize x with a single pixel\n",
        "        x = torch.tensor([[initial_pixel]])\n",
        "\n",
        "        # Move the tensor to the appropriate device\n",
        "        x = x.to(get_device())\n",
        "        x=x.to(dtype=torch.float32)\n",
        "        # Generate pixels iteratively\n",
        "        for i in range(1, image_size):\n",
        "            x_probs = F.sigmoid(model(x))\n",
        "            sampled_pixel=x_probs[0,i-1]\n",
        "            #print(x_probs)\n",
        "            #sampled_pixel = torch.bernoulli(x_probs[0,i-1])\n",
        "            #print(x_probs,sampled_pixel,x_probs[0,i-1]\n",
        "            #print(x,x.shape,sampled_pixel)\n",
        "            x = torch.cat([x, sampled_pixel.unsqueeze(1)], dim=1)\n",
        "\n",
        "            if i%30==0:\n",
        "                #print(x)\n",
        "                pass\n",
        "\n",
        "        # Reshape and convert to numpy for visualization\n",
        "        x = x.view(28, 28).detach().cpu().numpy()\n",
        "\n",
        "        return x\n",
        "\n",
        "    # Generate image iteratively starting with initial pixel 257\n",
        "    generated_image = generate_image(model)\n",
        "\n",
        "    # Display the sampled image using matplotlib\n",
        "    plt.imshow(generated_image, cmap='gray')  # 'gray' colormap is used for grayscale images\n",
        "    plt.axis('off')  # Turn off axis labels\n",
        "    plt.show()\n"
      ]
    }
  ]
}